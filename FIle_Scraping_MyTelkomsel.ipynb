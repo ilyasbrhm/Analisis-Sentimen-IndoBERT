{
  "nbformat": 4,
  "nbformat_minor": 0,
  "metadata": {
    "colab": {
      "provenance": []
    },
    "kernelspec": {
      "name": "python3",
      "display_name": "Python 3"
    },
    "language_info": {
      "name": "python"
    }
  },
  "cells": [
    {
      "cell_type": "markdown",
      "source": [
        "## Install Library"
      ],
      "metadata": {
        "id": "Y06GG_gOE1hY"
      }
    },
    {
      "cell_type": "code",
      "execution_count": null,
      "metadata": {
        "id": "GCTcTki--2NO",
        "outputId": "9491936e-c2de-486a-af88-fd7fae931ce3",
        "colab": {
          "base_uri": "https://localhost:8080/"
        }
      },
      "outputs": [
        {
          "output_type": "stream",
          "name": "stdout",
          "text": [
            "\u001b[?25l     \u001b[90m━━━━━━━━━━━━━━━━━━━━━━━━━━━━━━━━━━━━━━━━\u001b[0m \u001b[32m0.0/50.2 kB\u001b[0m \u001b[31m?\u001b[0m eta \u001b[36m-:--:--\u001b[0m\r\u001b[2K     \u001b[90m━━━━━━━━━━━━━━━━━━━━━━━━━━━━━━━━━━━━━━━━\u001b[0m \u001b[32m50.2/50.2 kB\u001b[0m \u001b[31m3.7 MB/s\u001b[0m eta \u001b[36m0:00:00\u001b[0m\n",
            "\u001b[?25h"
          ]
        }
      ],
      "source": [
        "# Install library Scrapping\n",
        "!pip install -q google-play-scraper"
      ]
    },
    {
      "cell_type": "markdown",
      "source": [
        "## Scrapping"
      ],
      "metadata": {
        "id": "QXc4cU9rxDnJ"
      }
    },
    {
      "cell_type": "code",
      "source": [
        "# Ambil 10.000 ulasan terbaru dari Google Play Store untuk aplikasi MyTelkomsel\n",
        "result, _ = reviews(\n",
        "    'com.telkomsel.telkomselcm',  # ID aplikasi MyTelkomsel\n",
        "    lang='id',\n",
        "    country='id',\n",
        "    sort=Sort.NEWEST,\n",
        "    count=10000\n",
        ")\n",
        "\n",
        "print(f\"Total review diambil: {len(result)}\")\n",
        "\n",
        "# Konversi ke DataFrame dan simpan kolom penting\n",
        "data = pd.DataFrame(result)[['content', 'score', 'at']]\n",
        "data.columns = ['ulasan', 'rating', 'tanggal']\n",
        "\n",
        "# Simpan ke file CSV agar tidak perlu scraping ulang\n",
        "data.to_csv('mytelkomsel.csv', index=False)\n",
        "print(\"Dataset berhasil disimpan 'mytelkomsel.csv'\")"
      ],
      "metadata": {
        "colab": {
          "base_uri": "https://localhost:8080/"
        },
        "id": "Z7Bs7Q6EDbN-",
        "outputId": "81b5bf50-8082-424e-8f01-213467b72935"
      },
      "execution_count": null,
      "outputs": [
        {
          "output_type": "stream",
          "name": "stdout",
          "text": [
            "Total review diambil: 10000\n",
            "Dataset berhasil disimpan 'mytelkomsel.csv'\n"
          ]
        }
      ]
    }
  ]
}